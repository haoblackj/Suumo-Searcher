{
 "cells": [
  {
   "cell_type": "markdown",
   "id": "5f86c72a",
   "metadata": {},
   "source": [
    "#  SUMMOスクレイピングメイン"
   ]
  },
  {
   "cell_type": "code",
   "execution_count": 8,
   "id": "499c04ad",
   "metadata": {
    "tags": []
   },
   "outputs": [],
   "source": [
    "#必要なライブラリをインポート\n",
    "from bs4 import BeautifulSoup\n",
    "import requests\n",
    "import pandas as pd\n",
    "import time\n",
    "from urllib.parse import urljoin"
   ]
  },
  {
   "cell_type": "code",
   "execution_count": 9,
   "id": "f7e91751",
   "metadata": {
    "tags": []
   },
   "outputs": [],
   "source": [
    "def Recursive_PageNum(All_PageFullURLs, url):\n",
    "    #データ取得\n",
    "    result = requests.get(url)\n",
    "    c = result.content\n",
    "    #HTMLを元に、オブジェクトを作る\n",
    "    soup = BeautifulSoup(c, \"html.parser\")\n",
    "    #ページ数を取得\n",
    "    body = soup.find(\"body\")\n",
    "    pages = body.find(\"div\",{'class':'pagination pagination_set-nav'}) #Page数の部分のhtmlを抜き出す\n",
    "    links = pages.select(\"a[href]\") #link付きaタグを抜き出す\n",
    "    #ページ選択で数値になっているリンクを引っ張ってくる（\"次へ\"を除く）\n",
    "    PageURLs = [link.get(\"href\") for link in links if link.get_text().isdigit()] \n",
    "    PageFullURLs = [urljoin(\"https://suumo.jp/\", relative) for relative in PageURLs] #相対パス -> 絶対パス\n",
    "    #1ページ目を先頭に格納\n",
    "    PageFullURLs.insert(0, url)\n",
    "    PageFullURLs = list(dict.fromkeys(PageFullURLs)) #重複削除\n",
    "    nPages = [int(link.get_text()) for link in links if link.get_text().isdigit()]\n",
    "    All_PageFullURLs.extend(PageFullURLs)\n",
    "    All_PageFullURLs = list(dict.fromkeys(All_PageFullURLs)) #重複削除\n",
    "    #再帰関数Exit条件 1 pageしかない場合 / 2 pageしかない場合 / MaxとMax-1番目のページ数の差が1の場合\n",
    "    if len(nPages) == 0 or len(nPages) == 1 or (sorted(nPages)[-1] - sorted(nPages)[-2]) ==1:\n",
    "        print(\"Exit recursive loop! # of URLs are    \" + str(len(All_PageFullURLs)))\n",
    "        time.sleep(5)\n",
    "        return All_PageFullURLs\n",
    "    #再帰関数 ページ数が２番目に大きいURLを次の読み込みURLに指定\n",
    "    time.sleep(5)\n",
    "    return Recursive_PageNum(All_PageFullURLs, PageFullURLs[-2])\n",
    "\n",
    "def PageNum_Easy(url):\n",
    "    #データ取得\n",
    "    result = requests.get(url)\n",
    "    c = result.content\n",
    "    #HTMLを元に、オブジェクトを作る\n",
    "    soup = BeautifulSoup(c, \"html.parser\")\n",
    "    #ページ数を取得\n",
    "    body = soup.find(\"body\")\n",
    "    pages = body.find(\"div\",{'class':'pagination pagination_set-nav'}) #Page数の部分のhtmlを抜き出す\n",
    "    links = pages.select(\"a[href]\") #link付きaタグを抜き出す\n",
    "    #ページ選択で数値になっているものを引っ張ってくる（\"次へ\"を除く / 1のみの場合は空リスト）\n",
    "    nPages = [int(link.get_text()) for link in links if link.get_text().isdigit()]\n",
    "    if len(nPages) == 0:\n",
    "        PageFullURLs = [url]\n",
    "    else:\n",
    "        MaxPages = sorted(nPages)[-1] #Max page数\n",
    "        PageFullURLs = []\n",
    "        for ipg in range(MaxPages):\n",
    "            base_URL = url + '&page=' + str(ipg+1)\n",
    "            PageFullURLs.append(base_URL)\n",
    "    return PageFullURLs"
   ]
  },
  {
   "cell_type": "code",
   "execution_count": 10,
   "id": "b889edd7",
   "metadata": {
    "tags": []
   },
   "outputs": [],
   "source": [
    "def ParseRoomDetail(EstateElem, url):\n",
    "    #マンション名取得\n",
    "    EstateName = EstateElem.find(\"div\",{'class':'cassetteitem_content-title'}).get_text()\n",
    "    #住所取得\n",
    "    EstateAddress = EstateElem.find(\"li\",{'class':'cassetteitem_detail-col1'}).get_text()\n",
    "    #最寄り駅取得\n",
    "    EstateLocationElem = EstateElem.find(\"li\",{'class':'cassetteitem_detail-col2'}).find_all(\"div\",{'class':'cassetteitem_detail-text'})\n",
    "    EstateLocations = [EstateLocation.get_text() for EstateLocation in EstateLocationElem] #リストで取得\n",
    "    EstateLocation = ' --- '.join(EstateLocations)\n",
    "    #築年数と建物高さを取得\n",
    "    EstateCol3Elem = EstateElem.find(\"li\",{'class':'cassetteitem_detail-col3'}).find_all(\"div\")\n",
    "    EstageAge = EstateCol3Elem[0].get_text()\n",
    "    EstageHight = EstateCol3Elem[1].get_text()\n",
    "    #Header Info をListに\n",
    "    HeaderInfo = [EstateName, EstateAddress, EstateLocation, EstageAge, EstageHight, url]\n",
    "    #階、賃料、管理費、敷/礼/保証/敷引,償却、間取り、専有面積が入っているtableを全て抜き出し\n",
    "    RoomtableElem =  EstateElem.find(\"table\",{'class':'cassetteitem_other'})\n",
    "    RoomDetail = []\n",
    "    #Contents \n",
    "    for rooms in RoomtableElem.find_all(\"tbody\"):\n",
    "        Roomtable = [temp.get_text() for temp in rooms.findAll('td')]\n",
    "        if \"cassetteitem_other-checkbox--newarrival\" in rooms.td['class']:\n",
    "            Roomtable.append(\"New\")\n",
    "        else:\n",
    "            Roomtable.append(\"Exsiting\")\n",
    "        Roomlinks = EstateElem.select(\"a[href]\") #link付きaタグを抜き出す\n",
    "        #\"詳細を見る\"の表示になっているリンクを引っ張ってくる\n",
    "        RoomDetailURL = [link.get(\"href\") for link in Roomlinks if link.get_text() == \"詳細を見る\"][0]\n",
    "        RoomFullDetailURL = urljoin(\"https://suumo.jp/\", RoomDetailURL) #相対パス -> 絶対パス\n",
    "        Roomtable.append(RoomFullDetailURL)\n",
    "        #Add Header Info\n",
    "        Roomtable.extend(HeaderInfo)\n",
    "        RoomDetail.append(Roomtable)\n",
    "    return RoomDetail"
   ]
  },
  {
   "cell_type": "code",
   "execution_count": 11,
   "id": "3612dfb9",
   "metadata": {
    "tags": []
   },
   "outputs": [],
   "source": [
    "def Parsedistrict(PageFullURLs, RoomDetails):\n",
    "    for icount, url in enumerate(PageFullURLs):\n",
    "        print(\"    Room Detail Status: \" + str(icount + 1) + \"/\" + str(len(PageFullURLs)))\n",
    "        try:\n",
    "            #データ取得\n",
    "            result = requests.get(url)\n",
    "            c = result.content\n",
    "            #HTMLを元に、オブジェクトを作る\n",
    "            soup = BeautifulSoup(c, \"html.parser\")\n",
    "            #物件リストの部分を切り出し\n",
    "            summary = soup.find(\"div\",{'id':'js-bukkenList'})\n",
    "            #マンション名、住所、立地（最寄駅/徒歩~分）、築年数、建物高さが入っているcassetteitemを全て抜き出し - デフォルト設定で最大30件の物件表示\n",
    "            cassetteitems = summary.find_all(\"div\",{'class':'cassetteitem'})\n",
    "            #マンションの数でループ\n",
    "            for EstateElem in cassetteitems:\n",
    "                RoomDetails.extend(ParseRoomDetail(EstateElem, url))\n",
    "        except requests.exceptions.RequestException as e:\n",
    "            print(\"エラー : \",e)\n",
    "        time.sleep(5)\n",
    "    print(\"total # of Rooms: \" + str(len(RoomDetails)))\n",
    "    return RoomDetails"
   ]
  },
  {
   "cell_type": "code",
   "execution_count": 12,
   "id": "0faa956f",
   "metadata": {
    "tags": []
   },
   "outputs": [],
   "source": [
    "#検索１ページ目\n",
    "#ta=が都道府県コード\n",
    "#sc=を無くせば都道府県単位の情報になる\n",
    "#東京23区はsc=13101 ~ 13123\n",
    "#条件：　愛知県／名古屋市千種区,名古屋市東区,名古屋市北区,名古屋市西区,名古屋市中区,名古屋市昭和区,名古屋市瑞穂区,名古屋市守山区,名古屋市名東区,名古屋市天白区 7.5万円以下 1K／1DK／1LDK／2K／2DK／2LDK／3K／3DK／3LDK／4K／4DK／4LDK／5K以上 マンション／アパート／一戸建て・その他 10分以内 30m2以上 10年以内 2階以上／角部屋／室内洗濯機置場／洗面所独立／エアコン付き／バス・トイレ別／浴室乾燥機／宅配ボックス 750m／スーパー 750m／コンビニ 鉄筋系／鉄骨系\n",
    "BaseURLs = [\n",
    "    \"https://suumo.jp/jj/chintai/ichiran/FR301FC001/?ar=050&bs=040&fw2=&pc=30&po1=25&po2=99&ta=23&sc=23101&sc=23102&sc=23103&sc=23104&sc=23106&sc=23107&sc=23108&sc=23113&sc=23115&sc=23116&md=02&md=03&md=04&md=05&md=06&md=07&md=08&md=09&md=10&md=11&md=12&md=13&md=14&ts=1&ts=2&ts=3&cb=0.0&ct=7.5&et=10&mb=30&mt=9999999&cn=10&kz=1&kz=2&tc=0400101&tc=0400103&tc=0400501&tc=0400502&tc=0400601&tc=0400301&tc=0400303&tc=0400905&shkr1=02&shkr2=02&shkr3=02&shkr4=02&shkk1=02060202&shkk1=02060203\"\n",
    "]\n",
    "    \n",
    "# # test用 1 page\n",
    "# BaseURLs = [\"https://suumo.jp/jj/chintai/ichiran/FR301FC001/?ar=030&bs=040&pc=30&smk=&po1=12&po2=99&shkr1=03&shkr2=03&shkr3=03&shkr4=03&sc=13101&ta=13&cb=0.0&ct=5.0&et=9999999&mb=0&mt=9999999&cn=9999999&fw2=\"]\n",
    "# # test用 2 pages\n",
    "# BaseURLs = [\"https://suumo.jp/jj/chintai/ichiran/FR301FC001/?ar=030&bs=040&pc=30&smk=&po1=12&po2=99&shkr1=03&shkr2=03&shkr3=03&shkr4=03&sc=13101&ta=13&cb=0.0&ct=7.0&et=9999999&mb=0&mt=9999999&cn=9999999&fw2=\"]\n",
    "# #test用 3 pages\n",
    "# BaseURLs = [\"https://suumo.jp/jj/chintai/ichiran/FR301FC001/?ar=030&bs=040&pc=30&smk=&po1=12&po2=99&shkr1=03&shkr2=03&shkr3=03&shkr4=03&sc=13101&ta=13&cb=0.0&ct=8.5&co=1&et=9999999&mb=0&mt=9999999&cn=9999999&fw2=\"]\n",
    "# #test用 8 pages\n",
    "# BaseURLs = [\"https://suumo.jp/jj/chintai/ichiran/FR301FC001/?ar=030&bs=040&pc=30&smk=&po1=12&po2=99&shkr1=03&shkr2=03&shkr3=03&shkr4=03&sc=13101&ta=13&cb=0.0&ct=9.0&et=9999999&mb=0&mt=9999999&cn=9999999&fw2=\"]\n",
    "# #test用 35 pages\n",
    "# BaseURLs = [\"https://suumo.jp/jj/chintai/ichiran/FR301FC001/?ar=030&bs=040&ta=13&sc=13101&cb=0.0&ct=9999999&et=9999999&cn=9999999&mb=0&mt=9999999&shkr1=03&shkr2=03&shkr3=03&shkr4=03&fw2=&srch_navi=1\"]"
   ]
  },
  {
   "cell_type": "code",
   "execution_count": 13,
   "id": "8ab75568",
   "metadata": {
    "tags": []
   },
   "outputs": [],
   "source": [
    "#Header Name\n",
    "soup = BeautifulSoup(requests.get(BaseURLs[0]).content, \"html.parser\")\n",
    "body = soup.find(\"body\")\n",
    "RoomtableHeadElem =  body.find(\"div\",{'class':'cassetteitem'}).find(\"thead\").find_all(\"th\")\n",
    "HeaderNames = [temp.get_text() for temp in RoomtableHeadElem]\n",
    "HeaderNames.append(\"NewArrival\")\n",
    "HeaderNames.append(\"RoomDetailLink\")\n",
    "HeaderNames.extend([\"マンション名\", \"住所\", \"最寄り駅\", \"築年数\", \"建物高さ\",\"SearchURL\"])\n",
    "HeaderNames = [temp.replace(\"\\xa0\", str(i)) for i, temp in enumerate(HeaderNames)] #空白の場合行番号で置き換え"
   ]
  },
  {
   "cell_type": "code",
   "execution_count": 14,
   "id": "d718a3c3",
   "metadata": {
    "scrolled": true,
    "tags": []
   },
   "outputs": [
    {
     "name": "stdout",
     "output_type": "stream",
     "text": [
      "District Status: 1/1\n",
      "    Room Detail Status: 1/3\n",
      "    Room Detail Status: 2/3\n",
      "    Room Detail Status: 3/3\n",
      "total # of Rooms: 117\n"
     ]
    }
   ],
   "source": [
    "#Scraping Main\n",
    "# RoomDetails = []　　#BaseURLsのデータをまとまりで出したい場合\n",
    "for iMcount, url in enumerate(BaseURLs):\n",
    "    print(\"District Status: \" + str(iMcount + 1) + \"/\" + str(len(BaseURLs)))\n",
    "    All_PageFullURLs = []\n",
    "#     All_PageFullURLs = Recursive_PageNum(All_PageFullURLs, url) #全てのページのURLを取得\n",
    "    All_PageFullURLs = PageNum_Easy(url)\n",
    "    RoomDetails = [] #データをBaseURLsごと出力\n",
    "    RoomDetails = Parsedistrict(All_PageFullURLs, RoomDetails) #ページごとの物件情報取得 / Pageのループはこの中\n",
    "    df = pd.DataFrame(RoomDetails, columns = HeaderNames)\n",
    "    filename = \"SUMMO_FullRoom_\" + str(iMcount) + \".csv\"\n",
    "    df.to_csv(filename)"
   ]
  },
  {
   "cell_type": "code",
   "execution_count": null,
   "id": "4b695c27-13b3-4cd5-aac9-1b08daefe024",
   "metadata": {},
   "outputs": [],
   "source": []
  }
 ],
 "metadata": {
  "kernelspec": {
   "display_name": "Python 3 (ipykernel)",
   "language": "python",
   "name": "python3"
  },
  "language_info": {
   "codemirror_mode": {
    "name": "ipython",
    "version": 3
   },
   "file_extension": ".py",
   "mimetype": "text/x-python",
   "name": "python",
   "nbconvert_exporter": "python",
   "pygments_lexer": "ipython3",
   "version": "3.11.3"
  }
 },
 "nbformat": 4,
 "nbformat_minor": 5
}
